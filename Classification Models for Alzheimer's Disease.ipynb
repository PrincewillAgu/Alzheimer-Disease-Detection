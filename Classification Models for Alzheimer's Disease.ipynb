{
 "cells": [
  {
   "cell_type": "markdown",
   "metadata": {},
   "source": [
    "## Alzheimer's Disease Classifier\n",
    "\n",
    "> In this project, we will make use of the features extracted from MRI images as well as data retrieved from ADNI database to classify Alzheimer's disease patient."
   ]
  },
  {
   "cell_type": "markdown",
   "metadata": {},
   "source": [
    "### Introduction\n",
    "\n",
    "> - The purpose of the project is to make use of the data of 220 samples with 16 features extracted from MRI images to train a classifier model.\n",
    "> - This classifier model can then be used to classifier subjects as cognitive normal or has Alzheimer's disease."
   ]
  },
  {
   "cell_type": "markdown",
   "metadata": {},
   "source": [
    "### Import required libraries"
   ]
  },
  {
   "cell_type": "code",
   "execution_count": 1,
   "metadata": {},
   "outputs": [],
   "source": [
    "import numpy as np\n",
    "import pandas as pd\n",
    "import matplotlib as plt\n",
    "import seaborn as sns\n",
    "import matplotlib.pyplot as plt\n",
    "%matplotlib inline"
   ]
  },
  {
   "cell_type": "markdown",
   "metadata": {},
   "source": [
    "## Data Wrangling"
   ]
  },
  {
   "cell_type": "code",
   "execution_count": 2,
   "metadata": {},
   "outputs": [],
   "source": [
    "# load the dataset\n",
    "\n",
    "df= pd.read_csv('Data_training_and_val_set_CNvsAD.csv')"
   ]
  },
  {
   "cell_type": "code",
   "execution_count": 3,
   "metadata": {},
   "outputs": [
    {
     "data": {
      "text/html": [
       "<div>\n",
       "<style scoped>\n",
       "    .dataframe tbody tr th:only-of-type {\n",
       "        vertical-align: middle;\n",
       "    }\n",
       "\n",
       "    .dataframe tbody tr th {\n",
       "        vertical-align: top;\n",
       "    }\n",
       "\n",
       "    .dataframe thead th {\n",
       "        text-align: right;\n",
       "    }\n",
       "</style>\n",
       "<table border=\"1\" class=\"dataframe\">\n",
       "  <thead>\n",
       "    <tr style=\"text-align: right;\">\n",
       "      <th></th>\n",
       "      <th>RID</th>\n",
       "      <th>BRAIN</th>\n",
       "      <th>EICV</th>\n",
       "      <th>VENTRICLES</th>\n",
       "      <th>LHIPPOC</th>\n",
       "      <th>RHIPPOC</th>\n",
       "      <th>LINFLATVEN</th>\n",
       "      <th>RINFLATVEN</th>\n",
       "      <th>LMIDTEMP</th>\n",
       "      <th>RMIDTEMP</th>\n",
       "      <th>LINFTEMP</th>\n",
       "      <th>RINFTEMP</th>\n",
       "      <th>LFUSIFORM</th>\n",
       "      <th>RFUSIFORM</th>\n",
       "      <th>LENTORHIN</th>\n",
       "      <th>RENTORHIN</th>\n",
       "      <th>DXCURREN</th>\n",
       "    </tr>\n",
       "  </thead>\n",
       "  <tbody>\n",
       "    <tr>\n",
       "      <th>0</th>\n",
       "      <td>1063</td>\n",
       "      <td>937159</td>\n",
       "      <td>1401690</td>\n",
       "      <td>38855.4</td>\n",
       "      <td>3427.13</td>\n",
       "      <td>3262.01</td>\n",
       "      <td>1045.280</td>\n",
       "      <td>1263.010</td>\n",
       "      <td>2.44566</td>\n",
       "      <td>2.48342</td>\n",
       "      <td>2.47434</td>\n",
       "      <td>2.49197</td>\n",
       "      <td>2.27057</td>\n",
       "      <td>2.11083</td>\n",
       "      <td>2.99752</td>\n",
       "      <td>3.24032</td>\n",
       "      <td>0</td>\n",
       "    </tr>\n",
       "    <tr>\n",
       "      <th>1</th>\n",
       "      <td>184</td>\n",
       "      <td>901429</td>\n",
       "      <td>1235930</td>\n",
       "      <td>10081.2</td>\n",
       "      <td>3410.35</td>\n",
       "      <td>3693.69</td>\n",
       "      <td>529.756</td>\n",
       "      <td>391.364</td>\n",
       "      <td>2.52101</td>\n",
       "      <td>2.69526</td>\n",
       "      <td>2.81781</td>\n",
       "      <td>2.76115</td>\n",
       "      <td>2.42640</td>\n",
       "      <td>2.50153</td>\n",
       "      <td>3.40556</td>\n",
       "      <td>3.36431</td>\n",
       "      <td>0</td>\n",
       "    </tr>\n",
       "    <tr>\n",
       "      <th>2</th>\n",
       "      <td>16</td>\n",
       "      <td>935565</td>\n",
       "      <td>1345440</td>\n",
       "      <td>21299.0</td>\n",
       "      <td>3621.49</td>\n",
       "      <td>3802.43</td>\n",
       "      <td>887.978</td>\n",
       "      <td>1135.170</td>\n",
       "      <td>2.45128</td>\n",
       "      <td>2.53828</td>\n",
       "      <td>2.40015</td>\n",
       "      <td>2.46122</td>\n",
       "      <td>1.99782</td>\n",
       "      <td>2.40015</td>\n",
       "      <td>3.19497</td>\n",
       "      <td>3.02149</td>\n",
       "      <td>0</td>\n",
       "    </tr>\n",
       "    <tr>\n",
       "      <th>3</th>\n",
       "      <td>575</td>\n",
       "      <td>884775</td>\n",
       "      <td>1325760</td>\n",
       "      <td>69220.3</td>\n",
       "      <td>2802.91</td>\n",
       "      <td>3098.38</td>\n",
       "      <td>3215.570</td>\n",
       "      <td>3370.800</td>\n",
       "      <td>2.59348</td>\n",
       "      <td>2.62409</td>\n",
       "      <td>2.50552</td>\n",
       "      <td>2.95271</td>\n",
       "      <td>2.09972</td>\n",
       "      <td>2.12354</td>\n",
       "      <td>2.43217</td>\n",
       "      <td>2.99445</td>\n",
       "      <td>0</td>\n",
       "    </tr>\n",
       "    <tr>\n",
       "      <th>4</th>\n",
       "      <td>403</td>\n",
       "      <td>1062950</td>\n",
       "      <td>1498230</td>\n",
       "      <td>32967.7</td>\n",
       "      <td>3416.55</td>\n",
       "      <td>4103.49</td>\n",
       "      <td>1648.410</td>\n",
       "      <td>1480.410</td>\n",
       "      <td>2.78544</td>\n",
       "      <td>2.76651</td>\n",
       "      <td>2.71469</td>\n",
       "      <td>2.54695</td>\n",
       "      <td>2.38363</td>\n",
       "      <td>2.48169</td>\n",
       "      <td>3.71762</td>\n",
       "      <td>3.86305</td>\n",
       "      <td>0</td>\n",
       "    </tr>\n",
       "  </tbody>\n",
       "</table>\n",
       "</div>"
      ],
      "text/plain": [
       "    RID    BRAIN     EICV  VENTRICLES  LHIPPOC  RHIPPOC  LINFLATVEN  \\\n",
       "0  1063   937159  1401690     38855.4  3427.13  3262.01    1045.280   \n",
       "1   184   901429  1235930     10081.2  3410.35  3693.69     529.756   \n",
       "2    16   935565  1345440     21299.0  3621.49  3802.43     887.978   \n",
       "3   575   884775  1325760     69220.3  2802.91  3098.38    3215.570   \n",
       "4   403  1062950  1498230     32967.7  3416.55  4103.49    1648.410   \n",
       "\n",
       "   RINFLATVEN  LMIDTEMP  RMIDTEMP  LINFTEMP  RINFTEMP  LFUSIFORM  RFUSIFORM  \\\n",
       "0    1263.010   2.44566   2.48342   2.47434   2.49197    2.27057    2.11083   \n",
       "1     391.364   2.52101   2.69526   2.81781   2.76115    2.42640    2.50153   \n",
       "2    1135.170   2.45128   2.53828   2.40015   2.46122    1.99782    2.40015   \n",
       "3    3370.800   2.59348   2.62409   2.50552   2.95271    2.09972    2.12354   \n",
       "4    1480.410   2.78544   2.76651   2.71469   2.54695    2.38363    2.48169   \n",
       "\n",
       "   LENTORHIN  RENTORHIN  DXCURREN  \n",
       "0    2.99752    3.24032         0  \n",
       "1    3.40556    3.36431         0  \n",
       "2    3.19497    3.02149         0  \n",
       "3    2.43217    2.99445         0  \n",
       "4    3.71762    3.86305         0  "
      ]
     },
     "execution_count": 3,
     "metadata": {},
     "output_type": "execute_result"
    }
   ],
   "source": [
    "# check the dataset\n",
    "\n",
    "df.head()"
   ]
  },
  {
   "cell_type": "code",
   "execution_count": 4,
   "metadata": {},
   "outputs": [
    {
     "name": "stdout",
     "output_type": "stream",
     "text": [
      "Number of samples =  220\n",
      "Number of features =  17\n"
     ]
    }
   ],
   "source": [
    "# check the shape of the dataset\n",
    "\n",
    "no_samples = df.shape[0]\n",
    "no_cols = df.shape[1]\n",
    "\n",
    "print(\"Number of samples = \", no_samples)\n",
    "print(\"Number of features = \", no_cols)"
   ]
  },
  {
   "cell_type": "code",
   "execution_count": 5,
   "metadata": {},
   "outputs": [
    {
     "name": "stdout",
     "output_type": "stream",
     "text": [
      "<class 'pandas.core.frame.DataFrame'>\n",
      "RangeIndex: 220 entries, 0 to 219\n",
      "Data columns (total 17 columns):\n",
      " #   Column      Non-Null Count  Dtype  \n",
      "---  ------      --------------  -----  \n",
      " 0   RID         220 non-null    int64  \n",
      " 1   BRAIN       220 non-null    int64  \n",
      " 2   EICV        220 non-null    int64  \n",
      " 3   VENTRICLES  220 non-null    float64\n",
      " 4   LHIPPOC     220 non-null    float64\n",
      " 5   RHIPPOC     220 non-null    float64\n",
      " 6   LINFLATVEN  220 non-null    float64\n",
      " 7   RINFLATVEN  220 non-null    float64\n",
      " 8   LMIDTEMP    220 non-null    float64\n",
      " 9   RMIDTEMP    220 non-null    float64\n",
      " 10  LINFTEMP    220 non-null    float64\n",
      " 11  RINFTEMP    220 non-null    float64\n",
      " 12  LFUSIFORM   220 non-null    float64\n",
      " 13  RFUSIFORM   220 non-null    float64\n",
      " 14  LENTORHIN   220 non-null    float64\n",
      " 15  RENTORHIN   220 non-null    float64\n",
      " 16  DXCURREN    220 non-null    int64  \n",
      "dtypes: float64(13), int64(4)\n",
      "memory usage: 29.3 KB\n"
     ]
    }
   ],
   "source": [
    "# check the data information\n",
    "\n",
    "df.info()"
   ]
  },
  {
   "cell_type": "markdown",
   "metadata": {},
   "source": [
    "Since all the features are numeric, we will explore the relationship between the features by obtaining their correlation coefficients. "
   ]
  },
  {
   "cell_type": "markdown",
   "metadata": {},
   "source": [
    "### Exploratory Data Analysis"
   ]
  },
  {
   "cell_type": "code",
   "execution_count": 6,
   "metadata": {},
   "outputs": [
    {
     "data": {
      "text/plain": [
       "BRAIN       BRAIN         1.000000\n",
       "            EICV          0.914554\n",
       "LHIPPOC     RHIPPOC       0.882356\n",
       "RMIDTEMP    RINFTEMP      0.874190\n",
       "LINFTEMP    LMIDTEMP      0.871690\n",
       "LINFLATVEN  RINFLATVEN    0.851397\n",
       "LINFTEMP    LFUSIFORM     0.849473\n",
       "RFUSIFORM   RINFTEMP      0.821934\n",
       "LMIDTEMP    LFUSIFORM     0.803698\n",
       "RMIDTEMP    RFUSIFORM     0.791022\n",
       "dtype: float64"
      ]
     },
     "execution_count": 6,
     "metadata": {},
     "output_type": "execute_result"
    }
   ],
   "source": [
    "# obtain the most correlated features from the dataset\n",
    "\n",
    "cols = [col for col in df.columns[1:-1]] # exclude the individual identifier and diagnostic status from the columns\n",
    "corr_feat = df[cols].corr() # get the correlation coefficients of all the features\n",
    "corr_feat = corr_feat.unstack().sort_values(ascending=False) # unstack the dataframe and sort values in descending order\n",
    "corr_feat = corr_feat.drop_duplicates() # drop duplicates to exclude the same feature correlation\n",
    "corr_feat.head(10)"
   ]
  },
  {
   "cell_type": "markdown",
   "metadata": {},
   "source": [
    "The above shows the features with highest positive correlation. **Volume of brain matters and EICV has the highest positive correlation coefficient**. Let's obtain those with negative relationship as well."
   ]
  },
  {
   "cell_type": "code",
   "execution_count": 7,
   "metadata": {},
   "outputs": [
    {
     "data": {
      "text/plain": [
       "LMIDTEMP    RINFLATVEN   -0.465602\n",
       "LENTORHIN   RINFLATVEN   -0.500521\n",
       "RFUSIFORM   RINFLATVEN   -0.511817\n",
       "LINFLATVEN  LFUSIFORM    -0.519430\n",
       "            LMIDTEMP     -0.519734\n",
       "RINFLATVEN  RINFTEMP     -0.524645\n",
       "LINFTEMP    LINFLATVEN   -0.529090\n",
       "RINFLATVEN  RENTORHIN    -0.532744\n",
       "LENTORHIN   LINFLATVEN   -0.535279\n",
       "RMIDTEMP    RINFLATVEN   -0.542264\n",
       "dtype: float64"
      ]
     },
     "execution_count": 7,
     "metadata": {},
     "output_type": "execute_result"
    }
   ],
   "source": [
    "corr_feat.tail(10)"
   ]
  },
  {
   "cell_type": "markdown",
   "metadata": {},
   "source": [
    "RMIDTEMP and RINFLATVEN shows the most (fairly) negative relationship.\n",
    "\n",
    "We will further explore the relationship between the most positive and negative correlated features with scatterplots."
   ]
  },
  {
   "cell_type": "code",
   "execution_count": 8,
   "metadata": {},
   "outputs": [
    {
     "data": {
      "text/plain": [
       "Text(0.5, 1.0, 'RMIDTEMP vs RINFLATVEN')"
      ]
     },
     "execution_count": 8,
     "metadata": {},
     "output_type": "execute_result"
    },
    {
     "data": {
      "image/png": "[encoded data removed]",
      "text/plain": [
       "<Figure size 1152x432 with 2 Axes>"
      ]
     },
     "metadata": {
      "needs_background": "light"
     },
     "output_type": "display_data"
    }
   ],
   "source": [
    "# set figure for the plots\n",
    "plt.figure(figsize=[16, 6])\n",
    "\n",
    "plt.subplot(1,2,1) # first plot... BRAIN vs EICV\n",
    "sns.regplot(data = df, x = 'BRAIN', y = 'EICV',\n",
    "           truncate=False, x_jitter=0.3, scatter_kws={'alpha':1/4})\n",
    "plt.title('BRAIN vs EICV')\n",
    "\n",
    "plt.subplot(1,2,2) # second plot... RMIDTEMP vs RINFLATVEN\n",
    "sns.regplot(data = df, x = 'RMIDTEMP', y = 'RINFLATVEN',\n",
    "           truncate=False, x_jitter=0.3, scatter_kws={'alpha':1/4})\n",
    "plt.title('RMIDTEMP vs RINFLATVEN')"
   ]
  },
  {
   "cell_type": "markdown",
   "metadata": {},
   "source": [
    "We will compare the mean differences of some of the features of the two groups of subjects... the Alzheimer's patient and the normal patient."
   ]
  },
  {
   "cell_type": "code",
   "execution_count": 9,
   "metadata": {},
   "outputs": [
    {
     "data": {
      "text/plain": [
       "0    110\n",
       "1    110\n",
       "Name: DXCURREN, dtype: int64"
      ]
     },
     "execution_count": 9,
     "metadata": {},
     "output_type": "execute_result"
    }
   ],
   "source": [
    "# check the number of subjects in the two groups\n",
    "\n",
    "df['DXCURREN'].value_counts()"
   ]
  },
  {
   "cell_type": "code",
   "execution_count": 10,
   "metadata": {},
   "outputs": [],
   "source": [
    "# divide the data into two... for each group of the subjects\n",
    "\n",
    "demented = df[df.DXCURREN == 1]\n",
    "normal = df[df.DXCURREN == 0]"
   ]
  },
  {
   "cell_type": "code",
   "execution_count": 11,
   "metadata": {},
   "outputs": [
    {
     "data": {
      "text/html": [
       "<div>\n",
       "<style scoped>\n",
       "    .dataframe tbody tr th:only-of-type {\n",
       "        vertical-align: middle;\n",
       "    }\n",
       "\n",
       "    .dataframe tbody tr th {\n",
       "        vertical-align: top;\n",
       "    }\n",
       "\n",
       "    .dataframe thead th {\n",
       "        text-align: right;\n",
       "    }\n",
       "</style>\n",
       "<table border=\"1\" class=\"dataframe\">\n",
       "  <thead>\n",
       "    <tr style=\"text-align: right;\">\n",
       "      <th></th>\n",
       "      <th>RID</th>\n",
       "      <th>BRAIN</th>\n",
       "      <th>EICV</th>\n",
       "      <th>VENTRICLES</th>\n",
       "      <th>LHIPPOC</th>\n",
       "      <th>RHIPPOC</th>\n",
       "      <th>LINFLATVEN</th>\n",
       "      <th>RINFLATVEN</th>\n",
       "      <th>LMIDTEMP</th>\n",
       "      <th>RMIDTEMP</th>\n",
       "      <th>LINFTEMP</th>\n",
       "      <th>RINFTEMP</th>\n",
       "      <th>LFUSIFORM</th>\n",
       "      <th>RFUSIFORM</th>\n",
       "      <th>LENTORHIN</th>\n",
       "      <th>RENTORHIN</th>\n",
       "      <th>DXCURREN</th>\n",
       "    </tr>\n",
       "  </thead>\n",
       "  <tbody>\n",
       "    <tr>\n",
       "      <th>count</th>\n",
       "      <td>110.000000</td>\n",
       "      <td>1.100000e+02</td>\n",
       "      <td>1.100000e+02</td>\n",
       "      <td>110.000000</td>\n",
       "      <td>110.000000</td>\n",
       "      <td>110.000000</td>\n",
       "      <td>110.000000</td>\n",
       "      <td>110.000000</td>\n",
       "      <td>110.000000</td>\n",
       "      <td>110.000000</td>\n",
       "      <td>110.000000</td>\n",
       "      <td>110.000000</td>\n",
       "      <td>110.000000</td>\n",
       "      <td>110.000000</td>\n",
       "      <td>110.000000</td>\n",
       "      <td>110.000000</td>\n",
       "      <td>110.0</td>\n",
       "    </tr>\n",
       "    <tr>\n",
       "      <th>mean</th>\n",
       "      <td>776.381818</td>\n",
       "      <td>9.501246e+05</td>\n",
       "      <td>1.451390e+06</td>\n",
       "      <td>55529.145455</td>\n",
       "      <td>2762.602636</td>\n",
       "      <td>2952.135091</td>\n",
       "      <td>2249.683400</td>\n",
       "      <td>2253.310245</td>\n",
       "      <td>2.218401</td>\n",
       "      <td>2.258468</td>\n",
       "      <td>2.285647</td>\n",
       "      <td>2.290316</td>\n",
       "      <td>2.099536</td>\n",
       "      <td>2.104474</td>\n",
       "      <td>2.499836</td>\n",
       "      <td>2.589077</td>\n",
       "      <td>1.0</td>\n",
       "    </tr>\n",
       "    <tr>\n",
       "      <th>std</th>\n",
       "      <td>430.459451</td>\n",
       "      <td>1.115231e+05</td>\n",
       "      <td>1.668934e+05</td>\n",
       "      <td>27362.518583</td>\n",
       "      <td>549.719272</td>\n",
       "      <td>578.398543</td>\n",
       "      <td>1122.051734</td>\n",
       "      <td>1258.453170</td>\n",
       "      <td>0.261485</td>\n",
       "      <td>0.243170</td>\n",
       "      <td>0.234000</td>\n",
       "      <td>0.254566</td>\n",
       "      <td>0.247222</td>\n",
       "      <td>0.231585</td>\n",
       "      <td>0.452762</td>\n",
       "      <td>0.511080</td>\n",
       "      <td>0.0</td>\n",
       "    </tr>\n",
       "    <tr>\n",
       "      <th>min</th>\n",
       "      <td>7.000000</td>\n",
       "      <td>6.937860e+05</td>\n",
       "      <td>1.118990e+06</td>\n",
       "      <td>11559.900000</td>\n",
       "      <td>1723.310000</td>\n",
       "      <td>1768.950000</td>\n",
       "      <td>638.589000</td>\n",
       "      <td>588.596000</td>\n",
       "      <td>1.495310</td>\n",
       "      <td>1.707950</td>\n",
       "      <td>1.642300</td>\n",
       "      <td>1.677120</td>\n",
       "      <td>1.561400</td>\n",
       "      <td>1.497610</td>\n",
       "      <td>1.560000</td>\n",
       "      <td>1.498440</td>\n",
       "      <td>1.0</td>\n",
       "    </tr>\n",
       "    <tr>\n",
       "      <th>25%</th>\n",
       "      <td>394.000000</td>\n",
       "      <td>8.639480e+05</td>\n",
       "      <td>1.320102e+06</td>\n",
       "      <td>35445.050000</td>\n",
       "      <td>2352.622500</td>\n",
       "      <td>2515.637500</td>\n",
       "      <td>1460.175000</td>\n",
       "      <td>1422.110000</td>\n",
       "      <td>2.060707</td>\n",
       "      <td>2.073625</td>\n",
       "      <td>2.138282</td>\n",
       "      <td>2.113767</td>\n",
       "      <td>1.896297</td>\n",
       "      <td>1.953220</td>\n",
       "      <td>2.179527</td>\n",
       "      <td>2.193643</td>\n",
       "      <td>1.0</td>\n",
       "    </tr>\n",
       "    <tr>\n",
       "      <th>50%</th>\n",
       "      <td>799.500000</td>\n",
       "      <td>9.437925e+05</td>\n",
       "      <td>1.447620e+06</td>\n",
       "      <td>48609.600000</td>\n",
       "      <td>2676.645000</td>\n",
       "      <td>2837.310000</td>\n",
       "      <td>2056.585000</td>\n",
       "      <td>1961.630000</td>\n",
       "      <td>2.236050</td>\n",
       "      <td>2.250745</td>\n",
       "      <td>2.279170</td>\n",
       "      <td>2.309255</td>\n",
       "      <td>2.111795</td>\n",
       "      <td>2.120885</td>\n",
       "      <td>2.483585</td>\n",
       "      <td>2.586340</td>\n",
       "      <td>1.0</td>\n",
       "    </tr>\n",
       "    <tr>\n",
       "      <th>75%</th>\n",
       "      <td>1150.000000</td>\n",
       "      <td>1.018635e+06</td>\n",
       "      <td>1.578445e+06</td>\n",
       "      <td>69904.475000</td>\n",
       "      <td>3103.387500</td>\n",
       "      <td>3370.852500</td>\n",
       "      <td>2704.627500</td>\n",
       "      <td>2782.137500</td>\n",
       "      <td>2.426540</td>\n",
       "      <td>2.457730</td>\n",
       "      <td>2.445047</td>\n",
       "      <td>2.459120</td>\n",
       "      <td>2.269547</td>\n",
       "      <td>2.226320</td>\n",
       "      <td>2.807065</td>\n",
       "      <td>2.949220</td>\n",
       "      <td>1.0</td>\n",
       "    </tr>\n",
       "    <tr>\n",
       "      <th>max</th>\n",
       "      <td>1430.000000</td>\n",
       "      <td>1.303590e+06</td>\n",
       "      <td>1.949090e+06</td>\n",
       "      <td>152927.000000</td>\n",
       "      <td>4853.350000</td>\n",
       "      <td>4891.560000</td>\n",
       "      <td>6082.040000</td>\n",
       "      <td>7210.340000</td>\n",
       "      <td>2.700150</td>\n",
       "      <td>2.704560</td>\n",
       "      <td>2.891490</td>\n",
       "      <td>2.844490</td>\n",
       "      <td>2.839030</td>\n",
       "      <td>2.790480</td>\n",
       "      <td>3.783510</td>\n",
       "      <td>3.744270</td>\n",
       "      <td>1.0</td>\n",
       "    </tr>\n",
       "  </tbody>\n",
       "</table>\n",
       "</div>"
      ],
      "text/plain": [
       "               RID         BRAIN          EICV     VENTRICLES      LHIPPOC  \\\n",
       "count   110.000000  1.100000e+02  1.100000e+02     110.000000   110.000000   \n",
       "mean    776.381818  9.501246e+05  1.451390e+06   55529.145455  2762.602636   \n",
       "std     430.459451  1.115231e+05  1.668934e+05   27362.518583   549.719272   \n",
       "min       7.000000  6.937860e+05  1.118990e+06   11559.900000  1723.310000   \n",
       "25%     394.000000  8.639480e+05  1.320102e+06   35445.050000  2352.622500   \n",
       "50%     799.500000  9.437925e+05  1.447620e+06   48609.600000  2676.645000   \n",
       "75%    1150.000000  1.018635e+06  1.578445e+06   69904.475000  3103.387500   \n",
       "max    1430.000000  1.303590e+06  1.949090e+06  152927.000000  4853.350000   \n",
       "\n",
       "           RHIPPOC   LINFLATVEN   RINFLATVEN    LMIDTEMP    RMIDTEMP  \\\n",
       "count   110.000000   110.000000   110.000000  110.000000  110.000000   \n",
       "mean   2952.135091  2249.683400  2253.310245    2.218401    2.258468   \n",
       "std     578.398543  1122.051734  1258.453170    0.261485    0.243170   \n",
       "min    1768.950000   638.589000   588.596000    1.495310    1.707950   \n",
       "25%    2515.637500  1460.175000  1422.110000    2.060707    2.073625   \n",
       "50%    2837.310000  2056.585000  1961.630000    2.236050    2.250745   \n",
       "75%    3370.852500  2704.627500  2782.137500    2.426540    2.457730   \n",
       "max    4891.560000  6082.040000  7210.340000    2.700150    2.704560   \n",
       "\n",
       "         LINFTEMP    RINFTEMP   LFUSIFORM   RFUSIFORM   LENTORHIN   RENTORHIN  \\\n",
       "count  110.000000  110.000000  110.000000  110.000000  110.000000  110.000000   \n",
       "mean     2.285647    2.290316    2.099536    2.104474    2.499836    2.589077   \n",
       "std      0.234000    0.254566    0.247222    0.231585    0.452762    0.511080   \n",
       "min      1.642300    1.677120    1.561400    1.497610    1.560000    1.498440   \n",
       "25%      2.138282    2.113767    1.896297    1.953220    2.179527    2.193643   \n",
       "50%      2.279170    2.309255    2.111795    2.120885    2.483585    2.586340   \n",
       "75%      2.445047    2.459120    2.269547    2.226320    2.807065    2.949220   \n",
       "max      2.891490    2.844490    2.839030    2.790480    3.783510    3.744270   \n",
       "\n",
       "       DXCURREN  \n",
       "count     110.0  \n",
       "mean        1.0  \n",
       "std         0.0  \n",
       "min         1.0  \n",
       "25%         1.0  \n",
       "50%         1.0  \n",
       "75%         1.0  \n",
       "max         1.0  "
      ]
     },
     "execution_count": 11,
     "metadata": {},
     "output_type": "execute_result"
    }
   ],
   "source": [
    "demented.describe()"
   ]
  },
  {
   "cell_type": "code",
   "execution_count": 12,
   "metadata": {},
   "outputs": [
    {
     "data": {
      "text/html": [
       "<div>\n",
       "<style scoped>\n",
       "    .dataframe tbody tr th:only-of-type {\n",
       "        vertical-align: middle;\n",
       "    }\n",
       "\n",
       "    .dataframe tbody tr th {\n",
       "        vertical-align: top;\n",
       "    }\n",
       "\n",
       "    .dataframe thead th {\n",
       "        text-align: right;\n",
       "    }\n",
       "</style>\n",
       "<table border=\"1\" class=\"dataframe\">\n",
       "  <thead>\n",
       "    <tr style=\"text-align: right;\">\n",
       "      <th></th>\n",
       "      <th>RID</th>\n",
       "      <th>BRAIN</th>\n",
       "      <th>EICV</th>\n",
       "      <th>VENTRICLES</th>\n",
       "      <th>LHIPPOC</th>\n",
       "      <th>RHIPPOC</th>\n",
       "      <th>LINFLATVEN</th>\n",
       "      <th>RINFLATVEN</th>\n",
       "      <th>LMIDTEMP</th>\n",
       "      <th>RMIDTEMP</th>\n",
       "      <th>LINFTEMP</th>\n",
       "      <th>RINFTEMP</th>\n",
       "      <th>LFUSIFORM</th>\n",
       "      <th>RFUSIFORM</th>\n",
       "      <th>LENTORHIN</th>\n",
       "      <th>RENTORHIN</th>\n",
       "      <th>DXCURREN</th>\n",
       "    </tr>\n",
       "  </thead>\n",
       "  <tbody>\n",
       "    <tr>\n",
       "      <th>count</th>\n",
       "      <td>110.000000</td>\n",
       "      <td>1.100000e+02</td>\n",
       "      <td>1.100000e+02</td>\n",
       "      <td>110.000000</td>\n",
       "      <td>110.000000</td>\n",
       "      <td>110.000000</td>\n",
       "      <td>110.000000</td>\n",
       "      <td>110.000000</td>\n",
       "      <td>110.000000</td>\n",
       "      <td>110.000000</td>\n",
       "      <td>110.000000</td>\n",
       "      <td>110.000000</td>\n",
       "      <td>110.000000</td>\n",
       "      <td>110.000000</td>\n",
       "      <td>110.000000</td>\n",
       "      <td>110.000000</td>\n",
       "      <td>110.0</td>\n",
       "    </tr>\n",
       "    <tr>\n",
       "      <th>mean</th>\n",
       "      <td>618.381818</td>\n",
       "      <td>9.963349e+05</td>\n",
       "      <td>1.458788e+06</td>\n",
       "      <td>38110.280545</td>\n",
       "      <td>3533.095727</td>\n",
       "      <td>3678.580818</td>\n",
       "      <td>1234.750545</td>\n",
       "      <td>1244.294327</td>\n",
       "      <td>2.564385</td>\n",
       "      <td>2.598034</td>\n",
       "      <td>2.620976</td>\n",
       "      <td>2.588706</td>\n",
       "      <td>2.389659</td>\n",
       "      <td>2.365876</td>\n",
       "      <td>3.186655</td>\n",
       "      <td>3.298458</td>\n",
       "      <td>0.0</td>\n",
       "    </tr>\n",
       "    <tr>\n",
       "      <th>std</th>\n",
       "      <td>375.369347</td>\n",
       "      <td>1.008995e+05</td>\n",
       "      <td>1.385857e+05</td>\n",
       "      <td>19498.516050</td>\n",
       "      <td>437.641108</td>\n",
       "      <td>485.292154</td>\n",
       "      <td>600.430303</td>\n",
       "      <td>582.330046</td>\n",
       "      <td>0.164993</td>\n",
       "      <td>0.175526</td>\n",
       "      <td>0.165534</td>\n",
       "      <td>0.185919</td>\n",
       "      <td>0.168340</td>\n",
       "      <td>0.179007</td>\n",
       "      <td>0.359900</td>\n",
       "      <td>0.380936</td>\n",
       "      <td>0.0</td>\n",
       "    </tr>\n",
       "    <tr>\n",
       "      <th>min</th>\n",
       "      <td>14.000000</td>\n",
       "      <td>6.345910e+05</td>\n",
       "      <td>1.059560e+06</td>\n",
       "      <td>7552.460000</td>\n",
       "      <td>2610.820000</td>\n",
       "      <td>2276.750000</td>\n",
       "      <td>296.264000</td>\n",
       "      <td>318.735000</td>\n",
       "      <td>2.144620</td>\n",
       "      <td>2.034030</td>\n",
       "      <td>2.217610</td>\n",
       "      <td>2.073350</td>\n",
       "      <td>1.944840</td>\n",
       "      <td>1.951850</td>\n",
       "      <td>2.102060</td>\n",
       "      <td>1.914300</td>\n",
       "      <td>0.0</td>\n",
       "    </tr>\n",
       "    <tr>\n",
       "      <th>25%</th>\n",
       "      <td>356.250000</td>\n",
       "      <td>9.349688e+05</td>\n",
       "      <td>1.369175e+06</td>\n",
       "      <td>23096.675000</td>\n",
       "      <td>3253.775000</td>\n",
       "      <td>3387.677500</td>\n",
       "      <td>838.165250</td>\n",
       "      <td>857.978250</td>\n",
       "      <td>2.446850</td>\n",
       "      <td>2.479728</td>\n",
       "      <td>2.497962</td>\n",
       "      <td>2.465785</td>\n",
       "      <td>2.292543</td>\n",
       "      <td>2.246135</td>\n",
       "      <td>2.997032</td>\n",
       "      <td>3.141375</td>\n",
       "      <td>0.0</td>\n",
       "    </tr>\n",
       "    <tr>\n",
       "      <th>50%</th>\n",
       "      <td>591.500000</td>\n",
       "      <td>9.915630e+05</td>\n",
       "      <td>1.458785e+06</td>\n",
       "      <td>35090.050000</td>\n",
       "      <td>3494.130000</td>\n",
       "      <td>3739.525000</td>\n",
       "      <td>1198.935000</td>\n",
       "      <td>1166.515000</td>\n",
       "      <td>2.576560</td>\n",
       "      <td>2.590250</td>\n",
       "      <td>2.616785</td>\n",
       "      <td>2.605465</td>\n",
       "      <td>2.388425</td>\n",
       "      <td>2.356490</td>\n",
       "      <td>3.240530</td>\n",
       "      <td>3.352955</td>\n",
       "      <td>0.0</td>\n",
       "    </tr>\n",
       "    <tr>\n",
       "      <th>75%</th>\n",
       "      <td>893.500000</td>\n",
       "      <td>1.056188e+06</td>\n",
       "      <td>1.562318e+06</td>\n",
       "      <td>48850.825000</td>\n",
       "      <td>3775.557500</td>\n",
       "      <td>3913.955000</td>\n",
       "      <td>1505.482500</td>\n",
       "      <td>1506.007500</td>\n",
       "      <td>2.683677</td>\n",
       "      <td>2.722417</td>\n",
       "      <td>2.746993</td>\n",
       "      <td>2.708745</td>\n",
       "      <td>2.502875</td>\n",
       "      <td>2.479872</td>\n",
       "      <td>3.415535</td>\n",
       "      <td>3.522813</td>\n",
       "      <td>0.0</td>\n",
       "    </tr>\n",
       "    <tr>\n",
       "      <th>max</th>\n",
       "      <td>1288.000000</td>\n",
       "      <td>1.301340e+06</td>\n",
       "      <td>1.823070e+06</td>\n",
       "      <td>118808.000000</td>\n",
       "      <td>5514.940000</td>\n",
       "      <td>5750.400000</td>\n",
       "      <td>4551.830000</td>\n",
       "      <td>4081.390000</td>\n",
       "      <td>2.949880</td>\n",
       "      <td>3.010460</td>\n",
       "      <td>3.048830</td>\n",
       "      <td>3.141290</td>\n",
       "      <td>2.817160</td>\n",
       "      <td>2.770310</td>\n",
       "      <td>3.760310</td>\n",
       "      <td>4.075010</td>\n",
       "      <td>0.0</td>\n",
       "    </tr>\n",
       "  </tbody>\n",
       "</table>\n",
       "</div>"
      ],
      "text/plain": [
       "               RID         BRAIN          EICV     VENTRICLES      LHIPPOC  \\\n",
       "count   110.000000  1.100000e+02  1.100000e+02     110.000000   110.000000   \n",
       "mean    618.381818  9.963349e+05  1.458788e+06   38110.280545  3533.095727   \n",
       "std     375.369347  1.008995e+05  1.385857e+05   19498.516050   437.641108   \n",
       "min      14.000000  6.345910e+05  1.059560e+06    7552.460000  2610.820000   \n",
       "25%     356.250000  9.349688e+05  1.369175e+06   23096.675000  3253.775000   \n",
       "50%     591.500000  9.915630e+05  1.458785e+06   35090.050000  3494.130000   \n",
       "75%     893.500000  1.056188e+06  1.562318e+06   48850.825000  3775.557500   \n",
       "max    1288.000000  1.301340e+06  1.823070e+06  118808.000000  5514.940000   \n",
       "\n",
       "           RHIPPOC   LINFLATVEN   RINFLATVEN    LMIDTEMP    RMIDTEMP  \\\n",
       "count   110.000000   110.000000   110.000000  110.000000  110.000000   \n",
       "mean   3678.580818  1234.750545  1244.294327    2.564385    2.598034   \n",
       "std     485.292154   600.430303   582.330046    0.164993    0.175526   \n",
       "min    2276.750000   296.264000   318.735000    2.144620    2.034030   \n",
       "25%    3387.677500   838.165250   857.978250    2.446850    2.479728   \n",
       "50%    3739.525000  1198.935000  1166.515000    2.576560    2.590250   \n",
       "75%    3913.955000  1505.482500  1506.007500    2.683677    2.722417   \n",
       "max    5750.400000  4551.830000  4081.390000    2.949880    3.010460   \n",
       "\n",
       "         LINFTEMP    RINFTEMP   LFUSIFORM   RFUSIFORM   LENTORHIN   RENTORHIN  \\\n",
       "count  110.000000  110.000000  110.000000  110.000000  110.000000  110.000000   \n",
       "mean     2.620976    2.588706    2.389659    2.365876    3.186655    3.298458   \n",
       "std      0.165534    0.185919    0.168340    0.179007    0.359900    0.380936   \n",
       "min      2.217610    2.073350    1.944840    1.951850    2.102060    1.914300   \n",
       "25%      2.497962    2.465785    2.292543    2.246135    2.997032    3.141375   \n",
       "50%      2.616785    2.605465    2.388425    2.356490    3.240530    3.352955   \n",
       "75%      2.746993    2.708745    2.502875    2.479872    3.415535    3.522813   \n",
       "max      3.048830    3.141290    2.817160    2.770310    3.760310    4.075010   \n",
       "\n",
       "       DXCURREN  \n",
       "count     110.0  \n",
       "mean        0.0  \n",
       "std         0.0  \n",
       "min         0.0  \n",
       "25%         0.0  \n",
       "50%         0.0  \n",
       "75%         0.0  \n",
       "max         0.0  "
      ]
     },
     "execution_count": 12,
     "metadata": {},
     "output_type": "execute_result"
    }
   ],
   "source": [
    "normal.describe()"
   ]
  },
  {
   "cell_type": "code",
   "execution_count": 13,
   "metadata": {},
   "outputs": [
    {
     "data": {
      "text/plain": [
       "BRAIN         9.501246e+05\n",
       "EICV          1.451390e+06\n",
       "VENTRICLES    5.552915e+04\n",
       "LHIPPOC       2.762603e+03\n",
       "RHIPPOC       2.952135e+03\n",
       "LINFLATVEN    2.249683e+03\n",
       "RINFLATVEN    2.253310e+03\n",
       "LMIDTEMP      2.218401e+00\n",
       "RMIDTEMP      2.258468e+00\n",
       "LINFTEMP      2.285647e+00\n",
       "RINFTEMP      2.290316e+00\n",
       "LFUSIFORM     2.099536e+00\n",
       "RFUSIFORM     2.104474e+00\n",
       "LENTORHIN     2.499836e+00\n",
       "RENTORHIN     2.589077e+00\n",
       "Name: mean, dtype: float64"
      ]
     },
     "execution_count": 13,
     "metadata": {},
     "output_type": "execute_result"
    }
   ],
   "source": [
    "# obtain the mean of each feature in both group\n",
    "\n",
    "demented_mean = demented[cols].describe().loc['mean']\n",
    "demented_mean"
   ]
  },
  {
   "cell_type": "code",
   "execution_count": 14,
   "metadata": {},
   "outputs": [
    {
     "data": {
      "text/plain": [
       "BRAIN         9.963349e+05\n",
       "EICV          1.458788e+06\n",
       "VENTRICLES    3.811028e+04\n",
       "LHIPPOC       3.533096e+03\n",
       "RHIPPOC       3.678581e+03\n",
       "LINFLATVEN    1.234751e+03\n",
       "RINFLATVEN    1.244294e+03\n",
       "LMIDTEMP      2.564385e+00\n",
       "RMIDTEMP      2.598034e+00\n",
       "LINFTEMP      2.620976e+00\n",
       "RINFTEMP      2.588706e+00\n",
       "LFUSIFORM     2.389659e+00\n",
       "RFUSIFORM     2.365876e+00\n",
       "LENTORHIN     3.186655e+00\n",
       "RENTORHIN     3.298458e+00\n",
       "Name: mean, dtype: float64"
      ]
     },
     "execution_count": 14,
     "metadata": {},
     "output_type": "execute_result"
    }
   ],
   "source": [
    "normal_mean = normal[cols].describe().loc['mean']\n",
    "normal_mean"
   ]
  },
  {
   "cell_type": "code",
   "execution_count": 15,
   "metadata": {},
   "outputs": [
    {
     "data": {
      "text/plain": [
       "0     1.464905e-03\n",
       "1     7.209300e-01\n",
       "2     1.444776e-07\n",
       "3     3.110688e-24\n",
       "4     6.790456e-20\n",
       "5     7.197735e-15\n",
       "6     7.144266e-13\n",
       "7     5.668557e-25\n",
       "8     2.069136e-25\n",
       "9     1.167292e-26\n",
       "10    2.104613e-19\n",
       "11    3.829996e-20\n",
       "12    9.731913e-18\n",
       "13    3.026538e-27\n",
       "14    9.028144e-25\n",
       "Name: 1, dtype: float64"
      ]
     },
     "execution_count": 15,
     "metadata": {},
     "output_type": "execute_result"
    }
   ],
   "source": [
    "# perform two sample T-test to determine features that are significantly different between the two groups\n",
    " \n",
    "# Import the library\n",
    "import scipy.stats as stats\n",
    "\n",
    "a = df[df[\"DXCURREN\"]==0][cols]\n",
    "b = df[df[\"DXCURREN\"]==1][cols]\n",
    "\n",
    "pvalue = pd.DataFrame(stats.ttest_ind(a=a, b=b)).T[1]\n",
    "pvalue"
   ]
  },
  {
   "cell_type": "code",
   "execution_count": 16,
   "metadata": {},
   "outputs": [
    {
     "data": {
      "text/html": [
       "<div>\n",
       "<style scoped>\n",
       "    .dataframe tbody tr th:only-of-type {\n",
       "        vertical-align: middle;\n",
       "    }\n",
       "\n",
       "    .dataframe tbody tr th {\n",
       "        vertical-align: top;\n",
       "    }\n",
       "\n",
       "    .dataframe thead th {\n",
       "        text-align: right;\n",
       "    }\n",
       "</style>\n",
       "<table border=\"1\" class=\"dataframe\">\n",
       "  <thead>\n",
       "    <tr style=\"text-align: right;\">\n",
       "      <th></th>\n",
       "      <th>features</th>\n",
       "      <th>demented</th>\n",
       "      <th>normal</th>\n",
       "      <th>mean difference</th>\n",
       "      <th>p-values</th>\n",
       "    </tr>\n",
       "  </thead>\n",
       "  <tbody>\n",
       "    <tr>\n",
       "      <th>13</th>\n",
       "      <td>LENTORHIN</td>\n",
       "      <td>2.499836e+00</td>\n",
       "      <td>3.186655e+00</td>\n",
       "      <td>-0.686819</td>\n",
       "      <td>3.026538e-27</td>\n",
       "    </tr>\n",
       "    <tr>\n",
       "      <th>9</th>\n",
       "      <td>LINFTEMP</td>\n",
       "      <td>2.285647e+00</td>\n",
       "      <td>2.620976e+00</td>\n",
       "      <td>-0.335329</td>\n",
       "      <td>1.167292e-26</td>\n",
       "    </tr>\n",
       "    <tr>\n",
       "      <th>8</th>\n",
       "      <td>RMIDTEMP</td>\n",
       "      <td>2.258468e+00</td>\n",
       "      <td>2.598034e+00</td>\n",
       "      <td>-0.339566</td>\n",
       "      <td>2.069136e-25</td>\n",
       "    </tr>\n",
       "    <tr>\n",
       "      <th>7</th>\n",
       "      <td>LMIDTEMP</td>\n",
       "      <td>2.218401e+00</td>\n",
       "      <td>2.564385e+00</td>\n",
       "      <td>-0.345984</td>\n",
       "      <td>5.668557e-25</td>\n",
       "    </tr>\n",
       "    <tr>\n",
       "      <th>14</th>\n",
       "      <td>RENTORHIN</td>\n",
       "      <td>2.589077e+00</td>\n",
       "      <td>3.298458e+00</td>\n",
       "      <td>-0.709381</td>\n",
       "      <td>9.028144e-25</td>\n",
       "    </tr>\n",
       "    <tr>\n",
       "      <th>3</th>\n",
       "      <td>LHIPPOC</td>\n",
       "      <td>2.762603e+03</td>\n",
       "      <td>3.533096e+03</td>\n",
       "      <td>-770.493091</td>\n",
       "      <td>3.110688e-24</td>\n",
       "    </tr>\n",
       "    <tr>\n",
       "      <th>11</th>\n",
       "      <td>LFUSIFORM</td>\n",
       "      <td>2.099536e+00</td>\n",
       "      <td>2.389659e+00</td>\n",
       "      <td>-0.290123</td>\n",
       "      <td>3.829996e-20</td>\n",
       "    </tr>\n",
       "    <tr>\n",
       "      <th>4</th>\n",
       "      <td>RHIPPOC</td>\n",
       "      <td>2.952135e+03</td>\n",
       "      <td>3.678581e+03</td>\n",
       "      <td>-726.445727</td>\n",
       "      <td>6.790456e-20</td>\n",
       "    </tr>\n",
       "    <tr>\n",
       "      <th>10</th>\n",
       "      <td>RINFTEMP</td>\n",
       "      <td>2.290316e+00</td>\n",
       "      <td>2.588706e+00</td>\n",
       "      <td>-0.298390</td>\n",
       "      <td>2.104613e-19</td>\n",
       "    </tr>\n",
       "    <tr>\n",
       "      <th>12</th>\n",
       "      <td>RFUSIFORM</td>\n",
       "      <td>2.104474e+00</td>\n",
       "      <td>2.365876e+00</td>\n",
       "      <td>-0.261402</td>\n",
       "      <td>9.731913e-18</td>\n",
       "    </tr>\n",
       "    <tr>\n",
       "      <th>5</th>\n",
       "      <td>LINFLATVEN</td>\n",
       "      <td>2.249683e+03</td>\n",
       "      <td>1.234751e+03</td>\n",
       "      <td>1014.932855</td>\n",
       "      <td>7.197735e-15</td>\n",
       "    </tr>\n",
       "    <tr>\n",
       "      <th>6</th>\n",
       "      <td>RINFLATVEN</td>\n",
       "      <td>2.253310e+03</td>\n",
       "      <td>1.244294e+03</td>\n",
       "      <td>1009.015918</td>\n",
       "      <td>7.144266e-13</td>\n",
       "    </tr>\n",
       "    <tr>\n",
       "      <th>2</th>\n",
       "      <td>VENTRICLES</td>\n",
       "      <td>5.552915e+04</td>\n",
       "      <td>3.811028e+04</td>\n",
       "      <td>17418.864909</td>\n",
       "      <td>1.444776e-07</td>\n",
       "    </tr>\n",
       "    <tr>\n",
       "      <th>0</th>\n",
       "      <td>BRAIN</td>\n",
       "      <td>9.501246e+05</td>\n",
       "      <td>9.963349e+05</td>\n",
       "      <td>-46210.290909</td>\n",
       "      <td>1.464905e-03</td>\n",
       "    </tr>\n",
       "    <tr>\n",
       "      <th>1</th>\n",
       "      <td>EICV</td>\n",
       "      <td>1.451390e+06</td>\n",
       "      <td>1.458788e+06</td>\n",
       "      <td>-7398.090909</td>\n",
       "      <td>7.209300e-01</td>\n",
       "    </tr>\n",
       "  </tbody>\n",
       "</table>\n",
       "</div>"
      ],
      "text/plain": [
       "      features      demented        normal  mean difference      p-values\n",
       "13   LENTORHIN  2.499836e+00  3.186655e+00        -0.686819  3.026538e-27\n",
       "9     LINFTEMP  2.285647e+00  2.620976e+00        -0.335329  1.167292e-26\n",
       "8     RMIDTEMP  2.258468e+00  2.598034e+00        -0.339566  2.069136e-25\n",
       "7     LMIDTEMP  2.218401e+00  2.564385e+00        -0.345984  5.668557e-25\n",
       "14   RENTORHIN  2.589077e+00  3.298458e+00        -0.709381  9.028144e-25\n",
       "3      LHIPPOC  2.762603e+03  3.533096e+03      -770.493091  3.110688e-24\n",
       "11   LFUSIFORM  2.099536e+00  2.389659e+00        -0.290123  3.829996e-20\n",
       "4      RHIPPOC  2.952135e+03  3.678581e+03      -726.445727  6.790456e-20\n",
       "10    RINFTEMP  2.290316e+00  2.588706e+00        -0.298390  2.104613e-19\n",
       "12   RFUSIFORM  2.104474e+00  2.365876e+00        -0.261402  9.731913e-18\n",
       "5   LINFLATVEN  2.249683e+03  1.234751e+03      1014.932855  7.197735e-15\n",
       "6   RINFLATVEN  2.253310e+03  1.244294e+03      1009.015918  7.144266e-13\n",
       "2   VENTRICLES  5.552915e+04  3.811028e+04     17418.864909  1.444776e-07\n",
       "0        BRAIN  9.501246e+05  9.963349e+05    -46210.290909  1.464905e-03\n",
       "1         EICV  1.451390e+06  1.458788e+06     -7398.090909  7.209300e-01"
      ]
     },
     "execution_count": 16,
     "metadata": {},
     "output_type": "execute_result"
    }
   ],
   "source": [
    "# create a dataframe of the mean differences of the features for the two groups and the p-values\n",
    "\n",
    "mean_diff = pd.DataFrame()\n",
    "mean_diff[\"features\"] = cols\n",
    "mean_diff[\"demented\"] = list(demented_mean)\n",
    "mean_diff[\"normal\"] = list(normal_mean)\n",
    "mean_diff[\"mean difference\"] = mean_diff[\"demented\"] - mean_diff[\"normal\"]\n",
    "mean_diff[\"p-values\"] = list(pvalue)\n",
    "mean_diff = mean_diff.sort_values(\"p-values\", ascending=True) #sort the p-values from the lowest to highest\n",
    "mean_diff"
   ]
  },
  {
   "cell_type": "code",
   "execution_count": 17,
   "metadata": {},
   "outputs": [
    {
     "data": {
      "text/plain": [
       "13     LENTORHIN\n",
       "9       LINFTEMP\n",
       "8       RMIDTEMP\n",
       "7       LMIDTEMP\n",
       "14     RENTORHIN\n",
       "3        LHIPPOC\n",
       "11     LFUSIFORM\n",
       "4        RHIPPOC\n",
       "10      RINFTEMP\n",
       "12     RFUSIFORM\n",
       "5     LINFLATVEN\n",
       "6     RINFLATVEN\n",
       "2     VENTRICLES\n",
       "0          BRAIN\n",
       "Name: features, dtype: object"
      ]
     },
     "execution_count": 17,
     "metadata": {},
     "output_type": "execute_result"
    }
   ],
   "source": [
    "# obtain the significant features... these are features with p-values less than 0.05\n",
    "\n",
    "sig_features = mean_diff[mean_diff[\"p-values\"] <= 0.05][\"features\"]\n",
    "sig_features"
   ]
  },
  {
   "cell_type": "markdown",
   "metadata": {},
   "source": [
    "All the features except \"EICV\" are significantly different between normal subjects and patients with Alzheimer's disease."
   ]
  },
  {
   "cell_type": "markdown",
   "metadata": {},
   "source": [
    "# Building The Models \n",
    "\n",
    "> For the purpose of this task, we will select two classifiers; Support Vector Machine(SVM) and Naives Bayes."
   ]
  },
  {
   "cell_type": "code",
   "execution_count": 18,
   "metadata": {},
   "outputs": [],
   "source": [
    "#dropping irrelevant feature\n",
    "df.drop(['RID'], axis=1, inplace = True)"
   ]
  },
  {
   "cell_type": "code",
   "execution_count": 19,
   "metadata": {},
   "outputs": [],
   "source": [
    "input_cols = [col for col in df.columns[:-1]] # select the input columns\n",
    "\n",
    "X = df[input_cols] # input data\n",
    "y = df['DXCURREN'] # target"
   ]
  },
  {
   "cell_type": "markdown",
   "metadata": {},
   "source": [
    "## Train-Test Split\n",
    "\n",
    "The data will be divided into train and validation sets."
   ]
  },
  {
   "cell_type": "code",
   "execution_count": 20,
   "metadata": {},
   "outputs": [],
   "source": [
    "# splitting dataset into training and validation sets\n",
    "\n",
    "from sklearn.model_selection import train_test_split\n",
    "\n",
    "X_train, X_val, y_train, y_val = train_test_split(X, y, test_size=0.20, random_state=42)"
   ]
  },
  {
   "cell_type": "code",
   "execution_count": 21,
   "metadata": {},
   "outputs": [
    {
     "name": "stdout",
     "output_type": "stream",
     "text": [
      "(176, 15)\n",
      "(44, 15)\n"
     ]
    }
   ],
   "source": [
    "# check the training and validation data shape\n",
    "\n",
    "print(X_train.shape)\n",
    "print(X_val.shape)"
   ]
  },
  {
   "cell_type": "markdown",
   "metadata": {},
   "source": [
    "## Feature Scaling"
   ]
  },
  {
   "cell_type": "code",
   "execution_count": 22,
   "metadata": {},
   "outputs": [
    {
     "data": {
      "text/html": [
       "<div>\n",
       "<style scoped>\n",
       "    .dataframe tbody tr th:only-of-type {\n",
       "        vertical-align: middle;\n",
       "    }\n",
       "\n",
       "    .dataframe tbody tr th {\n",
       "        vertical-align: top;\n",
       "    }\n",
       "\n",
       "    .dataframe thead th {\n",
       "        text-align: right;\n",
       "    }\n",
       "</style>\n",
       "<table border=\"1\" class=\"dataframe\">\n",
       "  <thead>\n",
       "    <tr style=\"text-align: right;\">\n",
       "      <th></th>\n",
       "      <th>BRAIN</th>\n",
       "      <th>EICV</th>\n",
       "      <th>VENTRICLES</th>\n",
       "      <th>LHIPPOC</th>\n",
       "      <th>RHIPPOC</th>\n",
       "      <th>LINFLATVEN</th>\n",
       "      <th>RINFLATVEN</th>\n",
       "      <th>LMIDTEMP</th>\n",
       "      <th>RMIDTEMP</th>\n",
       "      <th>LINFTEMP</th>\n",
       "      <th>RINFTEMP</th>\n",
       "      <th>LFUSIFORM</th>\n",
       "      <th>RFUSIFORM</th>\n",
       "      <th>LENTORHIN</th>\n",
       "      <th>RENTORHIN</th>\n",
       "    </tr>\n",
       "  </thead>\n",
       "  <tbody>\n",
       "    <tr>\n",
       "      <th>0</th>\n",
       "      <td>1.117257</td>\n",
       "      <td>1.410317</td>\n",
       "      <td>0.920025</td>\n",
       "      <td>0.168144</td>\n",
       "      <td>0.187465</td>\n",
       "      <td>-0.043450</td>\n",
       "      <td>0.637042</td>\n",
       "      <td>1.250751</td>\n",
       "      <td>1.406785</td>\n",
       "      <td>1.494430</td>\n",
       "      <td>1.097562</td>\n",
       "      <td>0.808705</td>\n",
       "      <td>0.623405</td>\n",
       "      <td>1.733023</td>\n",
       "      <td>1.049651</td>\n",
       "    </tr>\n",
       "    <tr>\n",
       "      <th>1</th>\n",
       "      <td>0.027669</td>\n",
       "      <td>0.735557</td>\n",
       "      <td>1.737001</td>\n",
       "      <td>-0.823794</td>\n",
       "      <td>-1.069323</td>\n",
       "      <td>1.213062</td>\n",
       "      <td>3.234651</td>\n",
       "      <td>0.157696</td>\n",
       "      <td>-0.107369</td>\n",
       "      <td>-0.790414</td>\n",
       "      <td>-0.227335</td>\n",
       "      <td>-0.540377</td>\n",
       "      <td>-0.478486</td>\n",
       "      <td>-0.890480</td>\n",
       "      <td>-0.491431</td>\n",
       "    </tr>\n",
       "    <tr>\n",
       "      <th>2</th>\n",
       "      <td>0.416773</td>\n",
       "      <td>0.237393</td>\n",
       "      <td>-0.029553</td>\n",
       "      <td>0.363395</td>\n",
       "      <td>0.663674</td>\n",
       "      <td>-0.082569</td>\n",
       "      <td>-0.337005</td>\n",
       "      <td>1.119774</td>\n",
       "      <td>0.383832</td>\n",
       "      <td>1.242571</td>\n",
       "      <td>0.789722</td>\n",
       "      <td>1.005794</td>\n",
       "      <td>0.672425</td>\n",
       "      <td>0.198793</td>\n",
       "      <td>0.577978</td>\n",
       "    </tr>\n",
       "    <tr>\n",
       "      <th>3</th>\n",
       "      <td>-0.980743</td>\n",
       "      <td>-0.942479</td>\n",
       "      <td>-0.835962</td>\n",
       "      <td>-2.043588</td>\n",
       "      <td>-1.570167</td>\n",
       "      <td>-0.160188</td>\n",
       "      <td>-0.191500</td>\n",
       "      <td>-1.277027</td>\n",
       "      <td>-1.470493</td>\n",
       "      <td>-1.523681</td>\n",
       "      <td>-1.719705</td>\n",
       "      <td>-0.996363</td>\n",
       "      <td>-1.398939</td>\n",
       "      <td>-0.660074</td>\n",
       "      <td>-1.833198</td>\n",
       "    </tr>\n",
       "    <tr>\n",
       "      <th>4</th>\n",
       "      <td>-0.565406</td>\n",
       "      <td>-0.039380</td>\n",
       "      <td>-0.069877</td>\n",
       "      <td>-0.805678</td>\n",
       "      <td>-0.100974</td>\n",
       "      <td>0.491248</td>\n",
       "      <td>-0.133337</td>\n",
       "      <td>-0.898891</td>\n",
       "      <td>-0.813387</td>\n",
       "      <td>-1.179904</td>\n",
       "      <td>-1.672917</td>\n",
       "      <td>-2.002181</td>\n",
       "      <td>-2.052138</td>\n",
       "      <td>-1.168882</td>\n",
       "      <td>-1.151185</td>\n",
       "    </tr>\n",
       "  </tbody>\n",
       "</table>\n",
       "</div>"
      ],
      "text/plain": [
       "      BRAIN      EICV  VENTRICLES   LHIPPOC   RHIPPOC  LINFLATVEN  RINFLATVEN  \\\n",
       "0  1.117257  1.410317    0.920025  0.168144  0.187465   -0.043450    0.637042   \n",
       "1  0.027669  0.735557    1.737001 -0.823794 -1.069323    1.213062    3.234651   \n",
       "2  0.416773  0.237393   -0.029553  0.363395  0.663674   -0.082569   -0.337005   \n",
       "3 -0.980743 -0.942479   -0.835962 -2.043588 -1.570167   -0.160188   -0.191500   \n",
       "4 -0.565406 -0.039380   -0.069877 -0.805678 -0.100974    0.491248   -0.133337   \n",
       "\n",
       "   LMIDTEMP  RMIDTEMP  LINFTEMP  RINFTEMP  LFUSIFORM  RFUSIFORM  LENTORHIN  \\\n",
       "0  1.250751  1.406785  1.494430  1.097562   0.808705   0.623405   1.733023   \n",
       "1  0.157696 -0.107369 -0.790414 -0.227335  -0.540377  -0.478486  -0.890480   \n",
       "2  1.119774  0.383832  1.242571  0.789722   1.005794   0.672425   0.198793   \n",
       "3 -1.277027 -1.470493 -1.523681 -1.719705  -0.996363  -1.398939  -0.660074   \n",
       "4 -0.898891 -0.813387 -1.179904 -1.672917  -2.002181  -2.052138  -1.168882   \n",
       "\n",
       "   RENTORHIN  \n",
       "0   1.049651  \n",
       "1  -0.491431  \n",
       "2   0.577978  \n",
       "3  -1.833198  \n",
       "4  -1.151185  "
      ]
     },
     "execution_count": 22,
     "metadata": {},
     "output_type": "execute_result"
    }
   ],
   "source": [
    "#import Standard Scaler library for feature scaling\n",
    "from sklearn.preprocessing import StandardScaler\n",
    "\n",
    "sc = StandardScaler() # create an instance of the scaler\n",
    "train = sc.fit_transform(X_train) # fit the scaler on the training set\n",
    "train_input = pd.DataFrame(train, columns=input_cols) # convert the scaled data array into dataframe\n",
    "\n",
    "\n",
    "val = sc.transform(X_val) # transform the scaler on the validation set\n",
    "val_input = pd.DataFrame(val, columns=input_cols)\n",
    "\n",
    "train_input.head()"
   ]
  },
  {
   "cell_type": "markdown",
   "metadata": {},
   "source": [
    "## Model 1 - Naive Bayes Classifier"
   ]
  },
  {
   "cell_type": "code",
   "execution_count": 23,
   "metadata": {},
   "outputs": [
    {
     "name": "stdout",
     "output_type": "stream",
     "text": [
      "Classifier Accuracy: 95.5%\n"
     ]
    }
   ],
   "source": [
    "# import the naives bayes classifier library\n",
    "from sklearn.naive_bayes import GaussianNB\n",
    "\n",
    "nb_clf = GaussianNB() # get instance of model\n",
    "nb_clf.fit(train_input, y_train) # Train/Fit model \n",
    "\n",
    "# use the train model to predict the validation set\n",
    "y_pred_nb = nb_clf.predict(val_input)\n",
    "\n",
    "# determine the accuracy of the model\n",
    "from sklearn.metrics import accuracy_score\n",
    "\n",
    "accuracy = accuracy_score(y_val, y_pred_nb)\n",
    "print(f\"Classifier Accuracy: {accuracy*100:.1f}%\")"
   ]
  },
  {
   "cell_type": "markdown",
   "metadata": {},
   "source": [
    "### Confusion Matrix for Naives Bayes Classifier"
   ]
  },
  {
   "cell_type": "code",
   "execution_count": 24,
   "metadata": {},
   "outputs": [
    {
     "data": {
      "image/png": "[encoded data removed]",
      "text/plain": [
       "<Figure size 432x288 with 2 Axes>"
      ]
     },
     "metadata": {
      "needs_background": "light"
     },
     "output_type": "display_data"
    }
   ],
   "source": [
    "from sklearn.metrics import confusion_matrix\n",
    "nb_cf = confusion_matrix(y_val, y_pred_nb)\n",
    "\n",
    "# plot an heatmap of the confusion matrix\n",
    "plt.figure()\n",
    "sns.heatmap(nb_cf, annot=True)\n",
    "plt.xlabel('Prediction')\n",
    "plt.ylabel('Target')\n",
    "plt.title('Naives Bayes Confusion Matrix');"
   ]
  },
  {
   "cell_type": "markdown",
   "metadata": {},
   "source": [
    "### Evaluation of the Naives Bayes Classifier\n",
    "\n",
    "The model will be evaluated in terms of accuracy, sensitivity, specificity, precision, recall and AUC."
   ]
  },
  {
   "cell_type": "code",
   "execution_count": 25,
   "metadata": {},
   "outputs": [
    {
     "data": {
      "text/html": [
       "<div>\n",
       "<style scoped>\n",
       "    .dataframe tbody tr th:only-of-type {\n",
       "        vertical-align: middle;\n",
       "    }\n",
       "\n",
       "    .dataframe tbody tr th {\n",
       "        vertical-align: top;\n",
       "    }\n",
       "\n",
       "    .dataframe thead th {\n",
       "        text-align: right;\n",
       "    }\n",
       "</style>\n",
       "<table border=\"1\" class=\"dataframe\">\n",
       "  <thead>\n",
       "    <tr style=\"text-align: right;\">\n",
       "      <th></th>\n",
       "      <th>Accuracy</th>\n",
       "      <th>Sensitivity</th>\n",
       "      <th>Specificity</th>\n",
       "      <th>Precision</th>\n",
       "      <th>Recall</th>\n",
       "      <th>AUC</th>\n",
       "    </tr>\n",
       "  </thead>\n",
       "  <tbody>\n",
       "    <tr>\n",
       "      <th>0</th>\n",
       "      <td>0.954545</td>\n",
       "      <td>1.0</td>\n",
       "      <td>0.916667</td>\n",
       "      <td>0.909091</td>\n",
       "      <td>1.0</td>\n",
       "      <td>0.964876</td>\n",
       "    </tr>\n",
       "  </tbody>\n",
       "</table>\n",
       "</div>"
      ],
      "text/plain": [
       "   Accuracy  Sensitivity  Specificity  Precision  Recall       AUC\n",
       "0  0.954545          1.0     0.916667   0.909091     1.0  0.964876"
      ]
     },
     "execution_count": 25,
     "metadata": {},
     "output_type": "execute_result"
    }
   ],
   "source": [
    "# obtain true and false positive and negative data point\n",
    "\n",
    "TP = nb_cf[1,1] # true positive\n",
    "TN = nb_cf[0,0] # true negative\n",
    "FP = nb_cf[1,0] # False positive\n",
    "FN = nb_cf[0,1] # false negative\n",
    "\n",
    "# determine the evaluation metrics\n",
    "\n",
    "nb_accuracy = (TP+TN)/(TP+TN+FN+FP)\n",
    "nb_sensitivity = TP / (TP + FN)\n",
    "nb_specificity = TN / (TN + FP)\n",
    "nb_precision = TP / (TP + FP)\n",
    "nb_recall = TP / (TP + FN)\n",
    "\n",
    "'''Calculate AUC'''\n",
    "\n",
    "#use model to predict probability that given y value is 1\n",
    "y_pred_proba_nb = nb_clf.predict_proba(val_input)[::,1]\n",
    "\n",
    "#calculate AUC of model\n",
    "from sklearn.metrics import roc_auc_score\n",
    "nb_auc = roc_auc_score(y_val, y_pred_proba_nb)\n",
    "\n",
    "# create a dictionary for the evaluation metrics\n",
    "nb_metrics = [{'Accuracy': nb_accuracy, 'Sensitivity': nb_sensitivity, 'Specificity': nb_specificity,\n",
    "                  'Precision': nb_precision, 'Recall': nb_recall, 'AUC': nb_auc}]\n",
    "nb_metrics_df = pd.DataFrame.from_dict(nb_metrics) # convert the dictionary to dataframe\n",
    "nb_metrics_df"
   ]
  },
  {
   "cell_type": "markdown",
   "metadata": {},
   "source": [
    "The evaluation metrics of Naives Bayes classifier can be summarized as:\n",
    "\n",
    "- Accuracy - 95%\n",
    "- Sensitivity - 100%\n",
    "- Specificity - 92%\n",
    "- AUC - 96.5%"
   ]
  },
  {
   "cell_type": "markdown",
   "metadata": {},
   "source": [
    "## Model 2 - KNeighbors Classifier"
   ]
  },
  {
   "cell_type": "code",
   "execution_count": 26,
   "metadata": {},
   "outputs": [
    {
     "name": "stdout",
     "output_type": "stream",
     "text": [
      "KNN Classifier Accuracy: 88.6%\n"
     ]
    }
   ],
   "source": [
    "from sklearn.neighbors import KNeighborsClassifier\n",
    "\n",
    "knn_clf = KNeighborsClassifier() # get instance of model\n",
    "knn_clf.fit(train_input, y_train) # train/fit the model\n",
    "y_pred_knn = knn_clf.predict(val_input) # get the target predictions\n",
    "accuracy = accuracy_score(y_val, y_pred_knn) #obtain the accuracy score of the model\n",
    "\n",
    "print(f\"KNN Classifier Accuracy: {accuracy*100:.1f}%\")"
   ]
  },
  {
   "cell_type": "markdown",
   "metadata": {},
   "source": [
    "The KNN classifier accuracy of **88.6%** obtained is low compared to the Naives Bayes classifier. We will tune the parameter of the classifier to generate better accuracy and other metrics."
   ]
  },
  {
   "cell_type": "markdown",
   "metadata": {},
   "source": [
    "### Hyperparameter Tuning of KNN Classifier\n",
    "\n",
    "We will be using the GridSearchCV library of the sklearn to search for the best parameters of the KNN classifiers to be used for the improvement of the model."
   ]
  },
  {
   "cell_type": "code",
   "execution_count": 27,
   "metadata": {},
   "outputs": [
    {
     "name": "stdout",
     "output_type": "stream",
     "text": [
      "Accuracy:  0.9090909090909091\n",
      "Best leaf_size: 1\n",
      "Best p: 2\n",
      "Best n_neighbors: 13\n"
     ]
    }
   ],
   "source": [
    "#List Hyperparameters that we want to tune.\n",
    "leaf_size = list(range(1,50))\n",
    "n_neighbors = list(range(1,30))\n",
    "p=[1,2]\n",
    "\n",
    "#Convert to dictionary\n",
    "hyperparameters = dict(leaf_size=leaf_size, n_neighbors=n_neighbors, p=p)#Create new KNN object\n",
    "\n",
    "knn_2 = KNeighborsClassifier()\n",
    "\n",
    "#Use GridSearch\n",
    "from sklearn.model_selection import GridSearchCV\n",
    "clf = GridSearchCV(knn_2, hyperparameters, cv=10)\n",
    "\n",
    "#Fit the model\n",
    "best_model = clf.fit(train_input, y_train)\n",
    "y_pred = best_model.predict(val_input)\n",
    "accuracy = accuracy_score(y_val, y_pred)\n",
    "\n",
    "#Print The value of best Hyperparameters\n",
    "print('Accuracy: ', accuracy)\n",
    "print('Best leaf_size:', best_model.best_estimator_.get_params()['leaf_size'])\n",
    "print('Best p:', best_model.best_estimator_.get_params()['p'])\n",
    "print('Best n_neighbors:', best_model.best_estimator_.get_params()['n_neighbors'])"
   ]
  },
  {
   "cell_type": "markdown",
   "metadata": {},
   "source": [
    "The model accuracy has been increased to 0.909 after tuning. The best hyperparameters values that gave the best accuracy are leaf_size of 1, p of 2 and n_neighbors of 13. We will be using these parameters to train the KNN classifiers."
   ]
  },
  {
   "cell_type": "code",
   "execution_count": 28,
   "metadata": {},
   "outputs": [
    {
     "data": {
      "image/png": "[encoded data removed]",
      "text/plain": [
       "<Figure size 432x288 with 2 Axes>"
      ]
     },
     "metadata": {
      "needs_background": "light"
     },
     "output_type": "display_data"
    }
   ],
   "source": [
    "knn_clf2 = KNeighborsClassifier(leaf_size=1, p=2, n_neighbors=13)\n",
    "knn_clf2.fit(train_input, y_train)\n",
    "y_pred = knn_clf2.predict(val_input)\n",
    "\n",
    "# generate the confusion matrix for the KNN classifier\n",
    "knn_cf = confusion_matrix(y_val, y_pred)\n",
    "\n",
    "# plot an heatmap of the confusion matrix\n",
    "plt.figure()\n",
    "sns.heatmap(knn_cf, cmap='Reds', annot=True)\n",
    "plt.xlabel('Prediction')\n",
    "plt.ylabel('Target')\n",
    "plt.title('KNN Confusion Matrix');"
   ]
  },
  {
   "cell_type": "markdown",
   "metadata": {},
   "source": [
    "### Determine the Metrics of the KNN Classifier"
   ]
  },
  {
   "cell_type": "code",
   "execution_count": 29,
   "metadata": {},
   "outputs": [
    {
     "data": {
      "text/html": [
       "<div>\n",
       "<style scoped>\n",
       "    .dataframe tbody tr th:only-of-type {\n",
       "        vertical-align: middle;\n",
       "    }\n",
       "\n",
       "    .dataframe tbody tr th {\n",
       "        vertical-align: top;\n",
       "    }\n",
       "\n",
       "    .dataframe thead th {\n",
       "        text-align: right;\n",
       "    }\n",
       "</style>\n",
       "<table border=\"1\" class=\"dataframe\">\n",
       "  <thead>\n",
       "    <tr style=\"text-align: right;\">\n",
       "      <th></th>\n",
       "      <th>Accuracy</th>\n",
       "      <th>Sensitivity</th>\n",
       "      <th>Specificity</th>\n",
       "      <th>Precision</th>\n",
       "      <th>Recall</th>\n",
       "      <th>AUC</th>\n",
       "    </tr>\n",
       "  </thead>\n",
       "  <tbody>\n",
       "    <tr>\n",
       "      <th>0</th>\n",
       "      <td>0.909091</td>\n",
       "      <td>1.0</td>\n",
       "      <td>0.846154</td>\n",
       "      <td>0.818182</td>\n",
       "      <td>1.0</td>\n",
       "      <td>0.956612</td>\n",
       "    </tr>\n",
       "  </tbody>\n",
       "</table>\n",
       "</div>"
      ],
      "text/plain": [
       "   Accuracy  Sensitivity  Specificity  Precision  Recall       AUC\n",
       "0  0.909091          1.0     0.846154   0.818182     1.0  0.956612"
      ]
     },
     "execution_count": 29,
     "metadata": {},
     "output_type": "execute_result"
    }
   ],
   "source": [
    "TP = knn_cf[1,1] # true positive\n",
    "TN = knn_cf[0,0] # true negative\n",
    "FP = knn_cf[1,0] # False positive\n",
    "FN = knn_cf[0,1] # false negative\n",
    "\n",
    "# determine the evaluation metrics\n",
    "knn_accuracy = (TP+TN)/(TP+TN+FN+FP)\n",
    "knn_sensitivity = TP / (TP + FN)\n",
    "knn_specificity = TN / (TN + FP)\n",
    "knn_precision = TP / (TP + FP)\n",
    "knn_recall = TP / (TP + FN)\n",
    "\n",
    "#use model to predict probability that given y value is 1\n",
    "y_pred_proba_knn = knn_clf2.predict_proba(val_input)[::,1]\n",
    "\n",
    "#calculate AUC of model\n",
    "knn_auc = roc_auc_score(y_val, y_pred_proba_knn)\n",
    "\n",
    "# create a dictionary for the evaluation metrics\n",
    "knn_metrics = [{'Accuracy': knn_accuracy, 'Sensitivity': knn_sensitivity, 'Specificity': knn_specificity,\n",
    "                  'Precision': knn_precision, 'Recall': knn_recall, 'AUC': knn_auc}]\n",
    "knn_metrics_df = pd.DataFrame.from_dict(knn_metrics) # convert the dictionary to dataframe\n",
    "knn_metrics_df"
   ]
  },
  {
   "cell_type": "markdown",
   "metadata": {},
   "source": [
    "The evaluation metrics of KNN classifier can be summarized as:\n",
    "\n",
    "- Accuracy - 91%\n",
    "- Sensitivity - 100%\n",
    "- Specificity - 85%\n",
    "- AUC - 95.6%\n",
    "\n"
   ]
  },
  {
   "cell_type": "markdown",
   "metadata": {},
   "source": [
    "### Comparing the two Classifiers"
   ]
  },
  {
   "cell_type": "code",
   "execution_count": 30,
   "metadata": {},
   "outputs": [
    {
     "data": {
      "text/html": [
       "<div>\n",
       "<style scoped>\n",
       "    .dataframe tbody tr th:only-of-type {\n",
       "        vertical-align: middle;\n",
       "    }\n",
       "\n",
       "    .dataframe tbody tr th {\n",
       "        vertical-align: top;\n",
       "    }\n",
       "\n",
       "    .dataframe thead th {\n",
       "        text-align: right;\n",
       "    }\n",
       "</style>\n",
       "<table border=\"1\" class=\"dataframe\">\n",
       "  <thead>\n",
       "    <tr style=\"text-align: right;\">\n",
       "      <th></th>\n",
       "      <th>Model</th>\n",
       "      <th>Accuracy</th>\n",
       "      <th>Sensitivity</th>\n",
       "      <th>Specificity</th>\n",
       "      <th>Precision</th>\n",
       "      <th>Recall</th>\n",
       "      <th>AUC</th>\n",
       "    </tr>\n",
       "  </thead>\n",
       "  <tbody>\n",
       "    <tr>\n",
       "      <th>0</th>\n",
       "      <td>KNN</td>\n",
       "      <td>0.909091</td>\n",
       "      <td>1.0</td>\n",
       "      <td>0.846154</td>\n",
       "      <td>0.818182</td>\n",
       "      <td>1.0</td>\n",
       "      <td>0.956612</td>\n",
       "    </tr>\n",
       "    <tr>\n",
       "      <th>1</th>\n",
       "      <td>Naives Bayes</td>\n",
       "      <td>0.954545</td>\n",
       "      <td>1.0</td>\n",
       "      <td>0.916667</td>\n",
       "      <td>0.909091</td>\n",
       "      <td>1.0</td>\n",
       "      <td>0.964876</td>\n",
       "    </tr>\n",
       "  </tbody>\n",
       "</table>\n",
       "</div>"
      ],
      "text/plain": [
       "          Model  Accuracy  Sensitivity  Specificity  Precision  Recall  \\\n",
       "0           KNN  0.909091          1.0     0.846154   0.818182     1.0   \n",
       "1  Naives Bayes  0.954545          1.0     0.916667   0.909091     1.0   \n",
       "\n",
       "        AUC  \n",
       "0  0.956612  \n",
       "1  0.964876  "
      ]
     },
     "execution_count": 30,
     "metadata": {},
     "output_type": "execute_result"
    }
   ],
   "source": [
    "metrics = {'Model': ['KNN', 'Naives Bayes'], 'Accuracy': [knn_accuracy, nb_accuracy], \n",
    "            'Sensitivity': [knn_sensitivity, nb_sensitivity], 'Specificity': [knn_specificity, nb_specificity],\n",
    "            'Precision': [knn_precision, nb_precision], 'Recall': [knn_recall, nb_recall], 'AUC': [knn_auc, nb_auc]}\n",
    "\n",
    "# convert the metrics dictionary to dataframe\n",
    "metrics_df = pd.DataFrame.from_dict(metrics)\n",
    "metrics_df"
   ]
  },
  {
   "cell_type": "markdown",
   "metadata": {},
   "source": [
    "Comparing the two classifiers performance, it is evident that Naives Bayes is a better classifier for the dataset provided than KNearest Neighbor. It has better accuracy, specificity, precision and AUC.\n",
    "\n",
    "The evaluation metrics of the two models will be compared using barplot"
   ]
  },
  {
   "cell_type": "code",
   "execution_count": 33,
   "metadata": {},
   "outputs": [
    {
     "data": {
      "image/png": "[encoded data removed]",
      "text/plain": [
       "<Figure size 1296x864 with 4 Axes>"
      ]
     },
     "metadata": {},
     "output_type": "display_data"
    }
   ],
   "source": [
    "# set figure for the plots\n",
    "plt.figure(figsize=[18, 12])\n",
    "sns.set_style('darkgrid')\n",
    "color = sns.color_palette()[1] # plot the bars with the same colour for all categories\n",
    "\n",
    "plt.subplot(2,2,1)\n",
    "ax = sns.barplot(data=metrics_df, x='Model', y='Accuracy', color=color)\n",
    "ax.bar_label(ax.containers[0], fmt='%.3f')\n",
    "plt.title(\"Accuracy\", fontsize=14)\n",
    "\n",
    "plt.subplot(2,2,2)\n",
    "ax = sns.barplot(data=metrics_df, x='Model', y='Sensitivity', color=color)\n",
    "ax.bar_label(ax.containers[0], fmt='%.3f')\n",
    "plt.title(\"Sensitivity\", fontsize=14)\n",
    "\n",
    "plt.subplot(2,2,3)\n",
    "ax = sns.barplot(data=metrics_df, x='Model', y='Specificity', color=color)\n",
    "ax.bar_label(ax.containers[0], fmt='%.3f')\n",
    "plt.title(\"Specificity\", fontsize=14)\n",
    "\n",
    "plt.subplot(2,2,4)\n",
    "ax = sns.barplot(data=metrics_df, x='Model', y='Precision', color=color)\n",
    "ax.bar_label(ax.containers[0], fmt='%.3f')\n",
    "plt.title(\"Precision\", fontsize=14);"
   ]
  },
  {
   "cell_type": "markdown",
   "metadata": {},
   "source": [
    "## Conclusion\n",
    "\n",
    "- The performance metrics of the two models showed that Naives Bayes Classifier perform better than KNearest Neighbor in classifying Alzheimer's disease patients using the exatracted MRI images and additional dataset from ADNI.\n",
    "\n",
    "- The KNN classifier was tuned using grid search to determine parameters which gives the best accuracy for the classifier."
   ]
  },
  {
   "cell_type": "code",
   "execution_count": null,
   "metadata": {},
   "outputs": [],
   "source": []
  }
 ],
 "metadata": {
  "kernelspec": {
   "display_name": "Python 3 (ipykernel)",
   "language": "python",
   "name": "python3"
  },
  "language_info": {
   "codemirror_mode": {
    "name": "ipython",
    "version": 3
   },
   "file_extension": ".py",
   "mimetype": "text/x-python",
   "name": "python",
   "nbconvert_exporter": "python",
   "pygments_lexer": "ipython3",
   "version": "3.9.12"
  }
 },
 "nbformat": 4,
 "nbformat_minor": 2
}
